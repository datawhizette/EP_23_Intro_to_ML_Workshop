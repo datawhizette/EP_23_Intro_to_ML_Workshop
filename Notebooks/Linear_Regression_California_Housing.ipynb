{
  "nbformat": 4,
  "nbformat_minor": 0,
  "metadata": {
    "colab": {
      "provenance": [],
      "toc_visible": true,
      "authorship_tag": "ABX9TyNZEouGjqpNMjo+4vbMEBdn",
      "include_colab_link": true
    },
    "kernelspec": {
      "name": "python3",
      "display_name": "Python 3"
    },
    "language_info": {
      "name": "python"
    }
  },
  "cells": [
    {
      "cell_type": "markdown",
      "metadata": {
        "id": "view-in-github",
        "colab_type": "text"
      },
      "source": [
        "<a href=\"https://colab.research.google.com/github/royn5618/EP_23_Intro_to_ML_Workshop/blob/main/Notebooks/Linear_Regression_California_Housing.ipynb\" target=\"_parent\"><img src=\"https://colab.research.google.com/assets/colab-badge.svg\" alt=\"Open In Colab\"/></a>"
      ]
    },
    {
      "cell_type": "code",
      "source": [
        "import pandas as pd\n",
        "\n",
        "import matplotlib.pyplot as plt\n",
        "plt.style.use('ggplot')\n",
        "import seaborn as sns"
      ],
      "metadata": {
        "id": "GTuiiZ-ZARBt"
      },
      "execution_count": null,
      "outputs": []
    },
    {
      "cell_type": "code",
      "execution_count": null,
      "metadata": {
        "id": "ITbh7tJ__Kpc"
      },
      "outputs": [],
      "source": [
        "from sklearn.datasets import fetch_california_housing\n",
        "\n",
        "df = fetch_california_housing(as_frame=True, return_X_y=False)['frame']"
      ]
    },
    {
      "cell_type": "markdown",
      "source": [
        "# Explore Data"
      ],
      "metadata": {
        "id": "ys7_-qVF_pUT"
      }
    },
    {
      "cell_type": "markdown",
      "source": [
        "## Basic Data Info"
      ],
      "metadata": {
        "id": "nvM_M144E99Y"
      }
    },
    {
      "cell_type": "code",
      "source": [
        "df.info()"
      ],
      "metadata": {
        "id": "cSK8czjuE-WR"
      },
      "execution_count": null,
      "outputs": []
    },
    {
      "cell_type": "markdown",
      "source": [
        "**Observations**\n",
        "- the dataset contains 20,640 samples and 8 features\n",
        "\n",
        "- all features are numerical features encoded as floating number\n",
        "\n",
        "- there are no missing values*\n",
        "\n",
        "*But there could be data anomalies."
      ],
      "metadata": {
        "id": "Yk3ei4boFOPG"
      }
    },
    {
      "cell_type": "markdown",
      "source": [
        "## Scan Few Data Points"
      ],
      "metadata": {
        "id": "th715FXqE6hA"
      }
    },
    {
      "cell_type": "code",
      "source": [
        "df.head()"
      ],
      "metadata": {
        "id": "Fitioj38_qRX"
      },
      "execution_count": null,
      "outputs": []
    },
    {
      "cell_type": "markdown",
      "source": [],
      "metadata": {
        "id": "26TOWIig_s-o"
      }
    },
    {
      "cell_type": "code",
      "source": [
        "df.describe()"
      ],
      "metadata": {
        "id": "Pkr8DmBr_xkN"
      },
      "execution_count": null,
      "outputs": []
    },
    {
      "cell_type": "markdown",
      "source": [
        "# Univariate Analysis\n",
        "\n",
        "Analyzing the range, value concentration and outliers for each variable."
      ],
      "metadata": {
        "id": "oR81kKpiCRMu"
      }
    },
    {
      "cell_type": "code",
      "source": [
        "geog_columns =  ['longitud', 'latitude']\n",
        "numeric_columns = ['MedInc', 'HouseAge', 'AveRooms', 'AveBedrms',\n",
        "                   'Population',\t'AveOccup']\n",
        "\n",
        "target_column = 'MedHouseVal'"
      ],
      "metadata": {
        "id": "YLWwTGA_CTCQ"
      },
      "execution_count": null,
      "outputs": []
    },
    {
      "cell_type": "code",
      "source": [
        "for each_col in numeric_columns:\n",
        "  sns.histplot(df[each_col], bins=30)\n",
        "  plt.show()"
      ],
      "metadata": {
        "id": "rgmu5OXPCrOM"
      },
      "execution_count": null,
      "outputs": []
    },
    {
      "cell_type": "markdown",
      "source": [
        "**Observations**\n",
        "\n",
        "- The median income is a distribution with a long tail. It means that the salary of people is more or less normally distributed but there is some people getting a high salary.\n",
        "\n",
        "- Regarding the average house age, the distribution is more or less uniform\n",
        "\n",
        "- 'AveRooms', 'AveBedrms','Population',\t'AveOccup' have extreme values i.e. they potentially has outliers."
      ],
      "metadata": {
        "id": "NBFPpcy5Gyir"
      }
    },
    {
      "cell_type": "markdown",
      "source": [
        "# Target Analysis"
      ],
      "metadata": {
        "id": "dgmzw5nkKGTD"
      }
    },
    {
      "cell_type": "markdown",
      "source": [
        "Here, instead of using histogram, we are using a box plot."
      ],
      "metadata": {
        "id": "PhlTTqQqKaQm"
      }
    },
    {
      "cell_type": "code",
      "source": [
        "sns.boxplot(x=df[target_column])"
      ],
      "metadata": {
        "id": "DY-AObyeKIrJ"
      },
      "execution_count": null,
      "outputs": []
    },
    {
      "cell_type": "code",
      "source": [
        "sns.scatterplot(\n",
        "    data=df,\n",
        "    x=\"Longitude\",\n",
        "    y=\"Latitude\",\n",
        "    size=target_column,\n",
        "    hue=target_column,\n",
        "    palette='crest',\n",
        "    alpha=0.5,\n",
        ")\n",
        "\n",
        "plt.show()"
      ],
      "metadata": {
        "id": "p_tBAj4ZJeMK"
      },
      "execution_count": null,
      "outputs": []
    },
    {
      "cell_type": "markdown",
      "source": [
        "**Observations:**\n",
        "\n",
        "- The high-valued houses are mostly located on the coastline, around the big cities of San Diego, Los Angeles, San Jose, or San Francisco."
      ],
      "metadata": {
        "id": "W01ol2A2I-2K"
      }
    },
    {
      "cell_type": "markdown",
      "source": [
        "# Bivariate Correlation Analysis\n",
        "\n",
        "In this section, only two columns - AveBedrms and AveRooms are selected to demonstrate fitting of a linear regression line."
      ],
      "metadata": {
        "id": "UGlh8r6wLeuo"
      }
    },
    {
      "cell_type": "code",
      "source": [
        "lin_reg_cols= ['AveBedrms', 'AveRooms']"
      ],
      "metadata": {
        "id": "f60kVn9zLvFX"
      },
      "execution_count": null,
      "outputs": []
    },
    {
      "cell_type": "markdown",
      "source": [
        "We will use a scatteplot here to analyse the nature of their correlation."
      ],
      "metadata": {
        "id": "f0TuVQz4L6Em"
      }
    },
    {
      "cell_type": "code",
      "source": [
        "df_lin_reg = df[df[lin_reg_cols[0]] < 20][lin_reg_cols]\n",
        "sns.scatterplot(df_lin_reg, # selecting AveRooms upto 20 for a closer look\n",
        "                x=lin_reg_cols[0],\n",
        "                y=lin_reg_cols[1]\n",
        "                )\n",
        "\n",
        "plt.show()"
      ],
      "metadata": {
        "id": "vJSD2AVLL3xY"
      },
      "execution_count": null,
      "outputs": []
    },
    {
      "cell_type": "code",
      "source": [
        "from sklearn.linear_model import LinearRegression\n",
        "import numpy as np"
      ],
      "metadata": {
        "id": "GiL6_VipRM8B"
      },
      "execution_count": null,
      "outputs": []
    },
    {
      "cell_type": "code",
      "source": [
        "reg = LinearRegression()\n",
        "reg.fit(np.array(df_lin_reg['AveBedrms']).reshape(-1, 1), df_lin_reg['AveRooms'])"
      ],
      "metadata": {
        "id": "2fziSLdRqGo-"
      },
      "execution_count": null,
      "outputs": []
    },
    {
      "cell_type": "code",
      "source": [
        "reg.coef_"
      ],
      "metadata": {
        "id": "6I4Fdom8qQMu"
      },
      "execution_count": null,
      "outputs": []
    },
    {
      "cell_type": "code",
      "source": [
        "reg.intercept_"
      ],
      "metadata": {
        "id": "ZH8hEgc-qbFB"
      },
      "execution_count": null,
      "outputs": []
    },
    {
      "cell_type": "code",
      "source": [
        "sns.scatterplot(df_lin_reg, # selecting AveRooms upto 20 for a closer look\n",
        "                x=lin_reg_cols[0],\n",
        "                y=lin_reg_cols[1]\n",
        "                )\n",
        "y_plot = []\n",
        "for i in range(20):\n",
        "    y_plot.append((reg.coef_ * i) + reg.intercept_)\n",
        "plt.plot(range(len(y_plot)),y_plot,color='black',label = 'pred')\n",
        "plt.show()"
      ],
      "metadata": {
        "id": "uY065lO3qdsb"
      },
      "execution_count": null,
      "outputs": []
    },
    {
      "cell_type": "code",
      "source": [
        "reg.predict(np.array(2).reshape(1, -1))"
      ],
      "metadata": {
        "id": "PUwFoIRBqkfV"
      },
      "execution_count": null,
      "outputs": []
    },
    {
      "cell_type": "markdown",
      "source": [
        "# Fitting Linear Regression on Multiple Features\n",
        "\n",
        "Tip:\n",
        "\n",
        "1. Use Scikit-Learn Pipeline\n",
        "2. Use Standard Scalar to Scale the Numeric Values between 0 and 1."
      ],
      "metadata": {
        "id": "9n2bmCSmq_K-"
      }
    },
    {
      "cell_type": "code",
      "source": [
        "from sklearn.preprocessing import StandardScaler\n",
        "from sklearn.pipeline import make_pipeline"
      ],
      "metadata": {
        "id": "_Da2PgKatql5"
      },
      "execution_count": null,
      "outputs": []
    },
    {
      "cell_type": "code",
      "source": [
        "df.head()"
      ],
      "metadata": {
        "id": "2bbw9stmS3rP"
      },
      "execution_count": null,
      "outputs": []
    },
    {
      "cell_type": "code",
      "source": [
        "# Drop Lat and Long\n",
        "df_train = df[numeric_columns]\n",
        "df_target = df[target_column]"
      ],
      "metadata": {
        "id": "Z799gxseS6_R"
      },
      "execution_count": null,
      "outputs": []
    },
    {
      "cell_type": "code",
      "source": [
        "# split data\n",
        "\n",
        "from sklearn.model_selection import train_test_split\n",
        "\n",
        "X_train, X_test, y_train, y_test = train_test_split(df_train,\n",
        "                                                    df_target,\n",
        "                                                    test_size=0.2,\n",
        "                                                    random_state=42)"
      ],
      "metadata": {
        "id": "hJEK2kZDShaP"
      },
      "execution_count": null,
      "outputs": []
    },
    {
      "cell_type": "code",
      "source": [
        "X_train.head()"
      ],
      "metadata": {
        "id": "WwJhOocsTQcJ"
      },
      "execution_count": null,
      "outputs": []
    },
    {
      "cell_type": "code",
      "source": [
        "y_train.head()"
      ],
      "metadata": {
        "id": "bDS_iOKcSzls"
      },
      "execution_count": null,
      "outputs": []
    },
    {
      "cell_type": "code",
      "source": [
        "# Train and predict using linear regression\n",
        "lin_reg = LinearRegression()\n",
        "# Train with the train dataset\n",
        "lin_reg.fit(X_train, y_train)"
      ],
      "metadata": {
        "id": "jNwhWTgkwM8_"
      },
      "execution_count": null,
      "outputs": []
    },
    {
      "cell_type": "code",
      "source": [
        "coeff_df = pd.DataFrame(lin_reg.coef_, X_train.columns, columns=['Coefficient'])\n",
        "coeff_df"
      ],
      "metadata": {
        "id": "m-NABEkgT_FY"
      },
      "execution_count": null,
      "outputs": []
    },
    {
      "cell_type": "code",
      "source": [
        "\n",
        "intercept_df = pd.Series(lin_reg.intercept_)\n",
        "intercept_df"
      ],
      "metadata": {
        "id": "VxWmLcQOUBQs"
      },
      "execution_count": null,
      "outputs": []
    },
    {
      "cell_type": "code",
      "source": [
        "# Make prediction\n",
        "y_pred = lin_reg.predict(X_test)"
      ],
      "metadata": {
        "id": "QHGg-JEgUDaz"
      },
      "execution_count": null,
      "outputs": []
    },
    {
      "cell_type": "code",
      "source": [
        "y_pred"
      ],
      "metadata": {
        "id": "DhWN6tLFq6c_"
      },
      "execution_count": null,
      "outputs": []
    },
    {
      "cell_type": "markdown",
      "source": [
        "# Evaluating Linear Regression Models\n",
        "\n",
        "- Mean Absolute Error\n",
        "- Mean Squared Error\n",
        "- Root Mean Squared Error   \n",
        "\n",
        "Link: https://scikit-learn.org/stable/modules/model_evaluation.html"
      ],
      "metadata": {
        "id": "eCW1Ij6hzRc9"
      }
    },
    {
      "cell_type": "code",
      "source": [
        "from sklearn import metrics"
      ],
      "metadata": {
        "id": "Gh6-Wx8mq6fq"
      },
      "execution_count": null,
      "outputs": []
    },
    {
      "cell_type": "code",
      "source": [
        "print('Mean Absolute Error:', metrics.mean_absolute_error(y_test, y_pred))\n",
        "print('Mean Squared Error:', metrics.mean_squared_error(y_test, y_pred))\n",
        "print('Root Mean Squared Error:', np.sqrt(metrics.mean_squared_error(y_test, y_pred)))"
      ],
      "metadata": {
        "id": "Pk12gbTQMJ5i"
      },
      "execution_count": null,
      "outputs": []
    },
    {
      "cell_type": "code",
      "source": [
        "df_eval = pd.DataFrame()\n",
        "df_eval['actual'] = y_test\n",
        "df_eval['predictions'] = y_pred\n",
        "df_eval.head()"
      ],
      "metadata": {
        "id": "YBoEHzXq_r8j"
      },
      "execution_count": null,
      "outputs": []
    },
    {
      "cell_type": "code",
      "source": [
        "df_eval[:15].plot(kind='bar',figsize=(16,10))\n",
        "plt.show()"
      ],
      "metadata": {
        "id": "ziwuHTeeVENE"
      },
      "execution_count": null,
      "outputs": []
    },
    {
      "cell_type": "markdown",
      "source": [
        "# Revisit"
      ],
      "metadata": {
        "id": "CTVRZSAzWNSD"
      }
    },
    {
      "cell_type": "code",
      "source": [
        "X_train.describe()"
      ],
      "metadata": {
        "id": "QbVCeHRAWOZg"
      },
      "execution_count": null,
      "outputs": []
    },
    {
      "cell_type": "code",
      "source": [
        "scale_cols = ['Population']"
      ],
      "metadata": {
        "id": "suyUPBFK_dyf"
      },
      "execution_count": null,
      "outputs": []
    },
    {
      "cell_type": "markdown",
      "source": [
        "## Applying Standard Scaler\n",
        "\n",
        "Link: https://scikit-learn.org/stable/modules/generated/sklearn.preprocessing.StandardScaler.html\n",
        "\n",
        "Features will be transformed such that the mean is 0 and standard deviation is 1 ~ which is quivalent to a normal standard distribution."
      ],
      "metadata": {
        "id": "_Vta4XMcXybB"
      }
    },
    {
      "cell_type": "code",
      "source": [
        "from sklearn.preprocessing import StandardScaler\n",
        "scaler = StandardScaler()"
      ],
      "metadata": {
        "id": "VmIL7wgIWa_k"
      },
      "execution_count": null,
      "outputs": []
    },
    {
      "cell_type": "code",
      "source": [
        "scaler.fit(X_train[scale_cols])"
      ],
      "metadata": {
        "id": "4EeIxmC2Wi-0"
      },
      "execution_count": null,
      "outputs": []
    },
    {
      "cell_type": "code",
      "source": [
        "X_train[scale_cols] = scaler.transform(X_train[scale_cols])"
      ],
      "metadata": {
        "id": "vrkUJTOBWq4Y"
      },
      "execution_count": null,
      "outputs": []
    },
    {
      "cell_type": "code",
      "source": [
        "X_train.describe()"
      ],
      "metadata": {
        "id": "evFmOlPEWzq9"
      },
      "execution_count": null,
      "outputs": []
    },
    {
      "cell_type": "markdown",
      "source": [
        "## Exercise"
      ],
      "metadata": {
        "id": "o7a90ZdCaVZn"
      }
    },
    {
      "cell_type": "code",
      "source": [
        "# Train and predict using linear regression\n",
        "\n",
        "# Train with the train dataset\n"
      ],
      "metadata": {
        "id": "OXgCmiA_WpZw"
      },
      "execution_count": null,
      "outputs": []
    },
    {
      "cell_type": "code",
      "source": [
        "# Transform test set\n"
      ],
      "metadata": {
        "id": "3tju2BJHYOIa"
      },
      "execution_count": null,
      "outputs": []
    },
    {
      "cell_type": "code",
      "source": [
        "# Make predictions\n"
      ],
      "metadata": {
        "id": "x65NfhmRYWcA"
      },
      "execution_count": null,
      "outputs": []
    },
    {
      "cell_type": "code",
      "source": [
        "# Evaluate"
      ],
      "metadata": {
        "id": "EMEv5zI1YXC4"
      },
      "execution_count": null,
      "outputs": []
    },
    {
      "cell_type": "code",
      "source": [],
      "metadata": {
        "id": "qHcrrj1GZ-kK"
      },
      "execution_count": null,
      "outputs": []
    },
    {
      "cell_type": "code",
      "source": [],
      "metadata": {
        "id": "kRkYa225Z-d7"
      },
      "execution_count": null,
      "outputs": []
    },
    {
      "cell_type": "code",
      "source": [],
      "metadata": {
        "id": "Is6_eMzlZ-bK"
      },
      "execution_count": null,
      "outputs": []
    },
    {
      "cell_type": "code",
      "source": [],
      "metadata": {
        "id": "wb61Z1v-Z-Yk"
      },
      "execution_count": null,
      "outputs": []
    },
    {
      "cell_type": "code",
      "source": [],
      "metadata": {
        "id": "-Fgl69I_Z-WF"
      },
      "execution_count": null,
      "outputs": []
    },
    {
      "cell_type": "markdown",
      "source": [
        "# Solution\n",
        "\n",
        "\n",
        "\n",
        "```\n",
        "\n",
        "lin_reg_sc = LinearRegression()\n",
        "lin_reg_sc.fit(X_train, y_train)\n",
        "\n",
        "X_test[scale_cols] = scaler.transform(X_test[scale_cols])\n",
        "y_pred = lin_reg.predict(X_test)\n",
        "\n",
        "print('Mean Absolute Error:', metrics.mean_absolute_error(y_test, y_pred))\n",
        "print('Mean Squared Error:', metrics.mean_squared_error(y_test, y_pred))\n",
        "print('Root Mean Squared Error:', np.sqrt(metrics.mean_squared_error(y_test, y_pred)))\n",
        "\n",
        "\n",
        "```\n",
        "\n"
      ],
      "metadata": {
        "id": "h_4iQMyEZvg3"
      }
    }
  ]
}